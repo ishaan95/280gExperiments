{
 "metadata": {
  "language_info": {
   "codemirror_mode": {
    "name": "ipython",
    "version": 3
   },
   "file_extension": ".py",
   "mimetype": "text/x-python",
   "name": "python",
   "nbconvert_exporter": "python",
   "pygments_lexer": "ipython3",
   "version": "3.9.4"
  },
  "orig_nbformat": 2,
  "kernelspec": {
   "name": "python394jvsc74a57bd01a5bb6e05505391f0d234c8c460caeca8447adcc7dea8e933be6598236435592",
   "display_name": "Python 3.9.4 64-bit ('vqvae-2': conda)"
  }
 },
 "nbformat": 4,
 "nbformat_minor": 2,
 "cells": [
  {
   "source": [
    "Code for implementing VQVAE for CMPM280G seminar\n",
    "References: Adam's Google Colab notebook"
   ],
   "cell_type": "markdown",
   "metadata": {}
  },
  {
   "cell_type": "code",
   "execution_count": 2,
   "metadata": {},
   "outputs": [
    {
     "output_type": "stream",
     "name": "stdout",
     "text": [
      "INFO:tensorflow:Enabling eager execution\n",
      "INFO:tensorflow:Enabling v2 tensorshape\n",
      "INFO:tensorflow:Enabling resource variables\n",
      "INFO:tensorflow:Enabling tensor equality\n",
      "INFO:tensorflow:Enabling control flow v2\n",
      "[PhysicalDevice(name='/physical_device:CPU:0', device_type='CPU'), PhysicalDevice(name='/physical_device:GPU:0', device_type='GPU')]\n"
     ]
    }
   ],
   "source": [
    "from pylab import *\n",
    "import tensorflow as tf\n",
    "print(tf.config.list_physical_devices())"
   ]
  },
  {
   "cell_type": "code",
   "execution_count": 3,
   "metadata": {},
   "outputs": [
    {
     "output_type": "stream",
     "name": "stdout",
     "text": [
      "x: (60000, 28, 28)@uint8,\ny: (60000,)@uint8\n"
     ]
    }
   ],
   "source": [
    "# MNIST input data\n",
    "(x_train, y_train), (x_test, y_test) = tf.keras.datasets.mnist.load_data()\n",
    "print(f\"x: {x_train.shape}@{x_train.dtype},\\ny: {y_train.shape}@{y_train.dtype}\")"
   ]
  },
  {
   "cell_type": "code",
   "execution_count": 98,
   "metadata": {},
   "outputs": [
    {
     "output_type": "stream",
     "name": "stdout",
     "text": [
      "WARNING:tensorflow:Please add `keras.layers.InputLayer` instead of `keras.Input` to Sequential model. `keras.Input` is intended to be used by Functional model.\n",
      "Model: \"encoder\"\n",
      "_________________________________________________________________\n",
      "Layer (type)                 Output Shape              Param #   \n",
      "=================================================================\n",
      "reshape_63 (Reshape)         (None, 28, 28, 1)         0         \n",
      "_________________________________________________________________\n",
      "conv2d_34 (Conv2D)           (None, 14, 14, 32)        320       \n",
      "_________________________________________________________________\n",
      "conv2d_35 (Conv2D)           (None, 7, 7, 16)          4624      \n",
      "_________________________________________________________________\n",
      "conv2d_36 (Conv2D)           (None, 4, 4, 8)           1160      \n",
      "_________________________________________________________________\n",
      "reshape_64 (Reshape)         (None, 128)               0         \n",
      "_________________________________________________________________\n",
      "dense_55 (Dense)             (None, 32)                4128      \n",
      "=================================================================\n",
      "Total params: 10,232\n",
      "Trainable params: 10,232\n",
      "Non-trainable params: 0\n",
      "_________________________________________________________________\n"
     ]
    }
   ],
   "source": [
    "# Vanilla encoder\n",
    "# Define the encoder class\n",
    "class VanillaEncoder:\n",
    "  def __init__(self):\n",
    "    self.network = tf.keras.models.Sequential(\n",
    "      [\n",
    "        tf.keras.layers.Input(shape=(28,28)),\n",
    "        tf.keras.layers.Reshape((28,28,1)),\n",
    "        tf.keras.layers.Conv2D(\n",
    "          32, kernel_size=(3,3), strides=(2,2), padding='same', activation='relu', input_shape=(28,28,1)),\n",
    "        tf.keras.layers.Conv2D(\n",
    "          16, kernel_size=(3,3), strides=(2,2), padding='same', activation='relu', input_shape=(28,28,1)),\n",
    "        tf.keras.layers.Conv2D(\n",
    "        8, kernel_size=(3,3), strides=(2,2), padding='same', activation='relu', input_shape=(28,28,1)),\n",
    "        tf.keras.layers.Reshape((128,)),\n",
    "        tf.keras.layers.Dense(32), #the bottleneck dimension          \n",
    "      ], name='encoder')\n",
    "\n",
    "encoderVanilla = VanillaEncoder()\n",
    "encoderVanilla.network.summary()"
   ]
  },
  {
   "cell_type": "code",
   "execution_count": 103,
   "metadata": {},
   "outputs": [
    {
     "output_type": "stream",
     "name": "stdout",
     "text": [
      "WARNING:tensorflow:Please add `keras.layers.InputLayer` instead of `keras.Input` to Sequential model. `keras.Input` is intended to be used by Functional model.\n",
      "Model: \"decoder\"\n",
      "_________________________________________________________________\n",
      "Layer (type)                 Output Shape              Param #   \n",
      "=================================================================\n",
      "dense_56 (Dense)             (None, 128)               4224      \n",
      "_________________________________________________________________\n",
      "reshape_65 (Reshape)         (None, 4, 4, 8)           0         \n",
      "_________________________________________________________________\n",
      "conv2d_transpose_143 (Conv2D (None, 8, 8, 8)           584       \n",
      "_________________________________________________________________\n",
      "conv2d_transpose_144 (Conv2D (None, 16, 16, 16)        1168      \n",
      "_________________________________________________________________\n",
      "conv2d_transpose_145 (Conv2D (None, 32, 32, 32)        4640      \n",
      "_________________________________________________________________\n",
      "conv2d_transpose_146 (Conv2D (None, 32, 32, 1)         289       \n",
      "_________________________________________________________________\n",
      "cropping2d_11 (Cropping2D)   (None, 28, 28, 1)         0         \n",
      "_________________________________________________________________\n",
      "reshape_66 (Reshape)         (None, 28, 28)            0         \n",
      "=================================================================\n",
      "Total params: 10,905\n",
      "Trainable params: 10,905\n",
      "Non-trainable params: 0\n",
      "_________________________________________________________________\n"
     ]
    }
   ],
   "source": [
    "# Vanilla Decoder\n",
    "class VanillaDecoder:\n",
    "    def __init__(self):\n",
    "        self.network = tf.keras.models.Sequential(\n",
    "      [\n",
    "        tf.keras.layers.Input(shape=(32)),\n",
    "        tf.keras.layers.Dense((128)), #32x32 output\n",
    "        tf.keras.layers.Reshape((4,4,8)),\n",
    "        tf.keras.layers.Conv2DTranspose(\n",
    "          8, kernel_size=(3,3), strides=(2,2), padding='same', activation='relu'),\n",
    "        tf.keras.layers.Conv2DTranspose(\n",
    "          16, kernel_size=(3,3), strides=(2,2), padding='same', activation='relu'),\n",
    "        tf.keras.layers.Conv2DTranspose(\n",
    "        32, kernel_size=(3,3), strides=(2,2), padding='same', activation='relu'),\n",
    "         tf.keras.layers.Conv2DTranspose(\n",
    "        1, kernel_size=(3,3), strides=(1,1), padding='same', activation='relu'),\n",
    "        #Make 32x32x1 into 28x28x1 (crop 2 values out)\n",
    "        tf.keras.layers.Cropping2D(((2,2),(2,2))), \n",
    "        tf.keras.layers.Reshape((28,28)),           \n",
    "      ], name='decoder')\n",
    "\n",
    "decoderVanilla = VanillaDecoder()\n",
    "decoderVanilla.network.summary()"
   ]
  },
  {
   "cell_type": "code",
   "execution_count": 95,
   "metadata": {
    "tags": []
   },
   "outputs": [
    {
     "output_type": "stream",
     "name": "stdout",
     "text": [
      "(32, 28, 28)\n(60000, 28, 28)\n"
     ]
    }
   ],
   "source": [
    "# Create a list of 32 images, each 28x28 pixels\n",
    "grid_x = np.ndarray(shape=(32,28,28), dtype=uint8, order='F') \n",
    "for i in range(32):\n",
    "    grid_x[i] = x_train[i]\n",
    "print(grid_x.shape)\n",
    "print(x_train.shape)"
   ]
  },
  {
   "cell_type": "code",
   "execution_count": 74,
   "metadata": {},
   "outputs": [
    {
     "output_type": "stream",
     "name": "stdout",
     "text": [
      "WARNING:tensorflow:Please add `keras.layers.InputLayer` instead of `keras.Input` to Sequential model. `keras.Input` is intended to be used by Functional model.\n",
      "Model: \"encoder\"\n",
      "_________________________________________________________________\n",
      "Layer (type)                 Output Shape              Param #   \n",
      "=================================================================\n",
      "reshape_38 (Reshape)         (None, 32, 28, 28, 1)     0         \n",
      "_________________________________________________________________\n",
      "conv2d_12 (Conv2D)           (None, 32, 14, 14, 32)    320       \n",
      "_________________________________________________________________\n",
      "conv2d_13 (Conv2D)           (None, 32, 7, 7, 16)      4624      \n",
      "_________________________________________________________________\n",
      "conv2d_14 (Conv2D)           (None, 32, 4, 4, 8)       1160      \n",
      "_________________________________________________________________\n",
      "reshape_39 (Reshape)         (None, 32, 128)           0         \n",
      "_________________________________________________________________\n",
      "dense_34 (Dense)             (None, 32, 32)            4128      \n",
      "=================================================================\n",
      "Total params: 10,232\n",
      "Trainable params: 10,232\n",
      "Non-trainable params: 0\n",
      "_________________________________________________________________\n"
     ]
    }
   ],
   "source": [
    "# Define the group encoder class\n",
    "class ImageGroupEncoder:\n",
    "  def __init__(self):\n",
    "    self.network = tf.keras.models.Sequential(\n",
    "      [\n",
    "        tf.keras.layers.Input(shape=(32,28,28)),\n",
    "        tf.keras.layers.Reshape((32,28,28,1)),\n",
    "        tf.keras.layers.Conv2D(\n",
    "          32, kernel_size=(3,3), strides=(2,2), padding='same', activation='relu', input_shape=(32,28,28,1)),\n",
    "        tf.keras.layers.Conv2D(\n",
    "          16, kernel_size=(3,3), strides=(2,2), padding='same', activation='relu', input_shape=(32,28,28,1)),\n",
    "        tf.keras.layers.Conv2D(\n",
    "        8, kernel_size=(3,3), strides=(2,2), padding='same', activation='relu', input_shape=(32,28,28,1)),\n",
    "        tf.keras.layers.Reshape((32,128)),\n",
    "        tf.keras.layers.Dense(32), #the bottleneck dimension          \n",
    "      ], name='encoder')\n",
    "\n",
    "encoder32 = ImageGroupEncoder()\n",
    "encoder32.network.summary()"
   ]
  },
  {
   "cell_type": "code",
   "execution_count": 93,
   "metadata": {},
   "outputs": [
    {
     "output_type": "stream",
     "name": "stdout",
     "text": [
      "WARNING:tensorflow:Please add `keras.layers.InputLayer` instead of `keras.Input` to Sequential model. `keras.Input` is intended to be used by Functional model.\n",
      "Model: \"decoder\"\n",
      "_________________________________________________________________\n",
      "Layer (type)                 Output Shape              Param #   \n",
      "=================================================================\n",
      "dense_53 (Dense)             (None, 32, 64)            2112      \n",
      "_________________________________________________________________\n",
      "reshape_58 (Reshape)         (None, 32, 16, 4)         0         \n",
      "_________________________________________________________________\n",
      "conv2d_transpose_139 (Conv2D (None, 64, 32, 8)         296       \n",
      "_________________________________________________________________\n",
      "conv2d_transpose_140 (Conv2D (None, 128, 64, 16)       1168      \n",
      "_________________________________________________________________\n",
      "conv2d_transpose_141 (Conv2D (None, 256, 128, 32)      4640      \n",
      "_________________________________________________________________\n",
      "conv2d_transpose_142 (Conv2D (None, 256, 128, 1)       289       \n",
      "_________________________________________________________________\n",
      "cropping2d_10 (Cropping2D)   (None, 236, 108, 1)       0         \n",
      "=================================================================\n",
      "Total params: 8,505\n",
      "Trainable params: 8,505\n",
      "Non-trainable params: 0\n",
      "_________________________________________________________________\n"
     ]
    }
   ],
   "source": [
    "### ========================= Group decoder does not work!==========================\n",
    "# Define the group decoder class\n",
    "class ImageGroupDecoder:\n",
    "    def __init__(self):\n",
    "        self.network = tf.keras.models.Sequential(\n",
    "      [\n",
    "        tf.keras.layers.Input(shape=(32,32)),\n",
    "        tf.keras.layers.Dense((64)), #32x32 output\n",
    "        tf.keras.layers.Reshape((32,16,4)),\n",
    "        tf.keras.layers.Conv2DTranspose(\n",
    "          8, kernel_size=(3,3), strides=(2,2), padding='same', activation='relu'),\n",
    "        tf.keras.layers.Conv2DTranspose(\n",
    "          16, kernel_size=(3,3), strides=(2,2), padding='same', activation='relu'),\n",
    "        tf.keras.layers.Conv2DTranspose(\n",
    "        32, kernel_size=(3,3), strides=(2,2), padding='same', activation='relu'),\n",
    "         tf.keras.layers.Conv2DTranspose(\n",
    "        1, kernel_size=(3,3), strides=(1,1), padding='same', activation='relu'),\n",
    "        #Make 32x32x1 into 28x28x1 (crop 2 values out)\n",
    "        tf.keras.layers.Cropping2D(((2,2),(2,2))), \n",
    "        #tf.keras.layers.Reshape((32,28,28)),           \n",
    "      ], name='decoder')\n",
    "\n",
    "decoder32 = ImageGroupDecoder()\n",
    "decoder32.network.summary()   \n",
    "    "
   ]
  },
  {
   "cell_type": "code",
   "execution_count": 107,
   "metadata": {},
   "outputs": [
    {
     "output_type": "stream",
     "name": "stdout",
     "text": [
      "WARNING:tensorflow:Please add `keras.layers.InputLayer` instead of `keras.Input` to Sequential model. `keras.Input` is intended to be used by Functional model.\n"
     ]
    }
   ],
   "source": [
    "# The Vanilla autoencoder network\n",
    "class AutoencoderVanilla:\n",
    "    def __init__(self, encoder, decoder):\n",
    "        self.network = tf.keras.models.Sequential(\n",
    "            [\n",
    "                tf.keras.Input(shape=(28, 28)),\n",
    "                encoder,\n",
    "                decoder,\n",
    "            ], name='autoencoder'\n",
    "        )\n",
    "autoencoderVanilla = AutoencoderVanilla(\n",
    "    encoderVanilla.network, decoderVanilla.network)\n",
    "ae = autoencoderVanilla.network"
   ]
  },
  {
   "cell_type": "code",
   "execution_count": 108,
   "metadata": {},
   "outputs": [
    {
     "output_type": "stream",
     "name": "stdout",
     "text": [
      "Epoch 1/10\n",
      "1875/1875 [==============================] - 22s 11ms/step - loss: 1800.1104\n",
      "Epoch 2/10\n",
      "1875/1875 [==============================] - 20s 11ms/step - loss: 898.7874\n",
      "Epoch 3/10\n",
      "1875/1875 [==============================] - 20s 11ms/step - loss: 728.1477\n",
      "Epoch 4/10\n",
      "1875/1875 [==============================] - 20s 11ms/step - loss: 653.6108\n",
      "Epoch 5/10\n",
      "1875/1875 [==============================] - 20s 11ms/step - loss: 607.5345\n",
      "Epoch 6/10\n",
      "1875/1875 [==============================] - 20s 11ms/step - loss: 575.2391\n",
      "Epoch 7/10\n",
      "1875/1875 [==============================] - 20s 11ms/step - loss: 551.5765\n",
      "Epoch 8/10\n",
      "1875/1875 [==============================] - 20s 11ms/step - loss: 533.5903\n",
      "Epoch 9/10\n",
      "1875/1875 [==============================] - 20s 11ms/step - loss: 518.9187\n",
      "Epoch 10/10\n",
      "1875/1875 [==============================] - 20s 11ms/step - loss: 507.4446\n"
     ]
    },
    {
     "output_type": "execute_result",
     "data": {
      "text/plain": [
       "<tensorflow.python.keras.callbacks.History at 0x245db7e8490>"
      ]
     },
     "metadata": {},
     "execution_count": 108
    }
   ],
   "source": [
    "#Configure the model for training and then train\n",
    "ae.compile(loss='MSE')\n",
    "ae.fit(x_train, x_train, epochs=10)"
   ]
  },
  {
   "cell_type": "code",
   "execution_count": 109,
   "metadata": {},
   "outputs": [
    {
     "output_type": "execute_result",
     "data": {
      "text/plain": [
       "<matplotlib.image.AxesImage at 0x245dd181040>"
      ]
     },
     "metadata": {},
     "execution_count": 109
    },
    {
     "output_type": "display_data",
     "data": {
      "text/plain": "<Figure size 288x288 with 1 Axes>",
      "image/svg+xml": "<?xml version=\"1.0\" encoding=\"utf-8\" standalone=\"no\"?>\r\n<!DOCTYPE svg PUBLIC \"-//W3C//DTD SVG 1.1//EN\"\r\n  \"http://www.w3.org/Graphics/SVG/1.1/DTD/svg11.dtd\">\r\n<!-- Created with matplotlib (https://matplotlib.org/) -->\r\n<svg height=\"257.778125pt\" version=\"1.1\" viewBox=\"0 0 257.325 257.778125\" width=\"257.325pt\" xmlns=\"http://www.w3.org/2000/svg\" xmlns:xlink=\"http://www.w3.org/1999/xlink\">\r\n <metadata>\r\n  <rdf:RDF xmlns:cc=\"http://creativecommons.org/ns#\" xmlns:dc=\"http://purl.org/dc/elements/1.1/\" xmlns:rdf=\"http://www.w3.org/1999/02/22-rdf-syntax-ns#\">\r\n   <cc:Work>\r\n    <dc:type rdf:resource=\"http://purl.org/dc/dcmitype/StillImage\"/>\r\n    <dc:date>2021-04-29T23:21:15.694937</dc:date>\r\n    <dc:format>image/svg+xml</dc:format>\r\n    <dc:creator>\r\n     <cc:Agent>\r\n      <dc:title>Matplotlib v3.3.4, https://matplotlib.org/</dc:title>\r\n     </cc:Agent>\r\n    </dc:creator>\r\n   </cc:Work>\r\n  </rdf:RDF>\r\n </metadata>\r\n <defs>\r\n  <style type=\"text/css\">*{stroke-linecap:butt;stroke-linejoin:round;}</style>\r\n </defs>\r\n <g id=\"figure_1\">\r\n  <g id=\"patch_1\">\r\n   <path d=\"M 0 257.778125 \r\nL 257.325 257.778125 \r\nL 257.325 0 \r\nL 0 0 \r\nz\r\n\" style=\"fill:none;\"/>\r\n  </g>\r\n  <g id=\"axes_1\">\r\n   <g id=\"patch_2\">\r\n    <path d=\"M 26.925 247.078125 \r\nL 250.125 247.078125 \r\nL 250.125 23.878125 \r\nL 26.925 23.878125 \r\nz\r\n\" style=\"fill:#ffffff;\"/>\r\n   </g>\r\n   <g clip-path=\"url(#p9f424b005d)\">\r\n    <image height=\"224\" id=\"image860c34222e\" transform=\"scale(1 -1)translate(0 -224)\" width=\"224\" x=\"26.925\" xlink:href=\"data:image/png;base64,\r\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\" y=\"-23.078125\"/>\r\n   </g>\r\n   <g id=\"matplotlib.axis_1\">\r\n    <g id=\"xtick_1\">\r\n     <g id=\"line2d_1\">\r\n      <defs>\r\n       <path d=\"M 0 0 \r\nL 0 3.5 \r\n\" id=\"mc0bb235c6c\" style=\"stroke:#000000;stroke-width:0.8;\"/>\r\n      </defs>\r\n      <g>\r\n       <use style=\"stroke:#000000;stroke-width:0.8;\" x=\"30.910714\" xlink:href=\"#mc0bb235c6c\" y=\"247.078125\"/>\r\n      </g>\r\n     </g>\r\n     <g id=\"line2d_2\">\r\n      <defs>\r\n       <path d=\"M 0 0 \r\nL 0 -3.5 \r\n\" id=\"mbff90feac5\" style=\"stroke:#000000;stroke-width:0.8;\"/>\r\n      </defs>\r\n      <g>\r\n       <use style=\"stroke:#000000;stroke-width:0.8;\" x=\"30.910714\" xlink:href=\"#mbff90feac5\" y=\"23.878125\"/>\r\n      </g>\r\n     </g>\r\n     <g id=\"text_1\">\r\n      <!-- 0 -->\r\n      <g transform=\"translate(27.729464 14.798438)scale(0.1 -0.1)\">\r\n       <defs>\r\n        <path d=\"M 31.78125 66.40625 \r\nQ 24.171875 66.40625 20.328125 58.90625 \r\nQ 16.5 51.421875 16.5 36.375 \r\nQ 16.5 21.390625 20.328125 13.890625 \r\nQ 24.171875 6.390625 31.78125 6.390625 \r\nQ 39.453125 6.390625 43.28125 13.890625 \r\nQ 47.125 21.390625 47.125 36.375 \r\nQ 47.125 51.421875 43.28125 58.90625 \r\nQ 39.453125 66.40625 31.78125 66.40625 \r\nz\r\nM 31.78125 74.21875 \r\nQ 44.046875 74.21875 50.515625 64.515625 \r\nQ 56.984375 54.828125 56.984375 36.375 \r\nQ 56.984375 17.96875 50.515625 8.265625 \r\nQ 44.046875 -1.421875 31.78125 -1.421875 \r\nQ 19.53125 -1.421875 13.0625 8.265625 \r\nQ 6.59375 17.96875 6.59375 36.375 \r\nQ 6.59375 54.828125 13.0625 64.515625 \r\nQ 19.53125 74.21875 31.78125 74.21875 \r\nz\r\n\" id=\"DejaVuSans-48\"/>\r\n       </defs>\r\n       <use xlink:href=\"#DejaVuSans-48\"/>\r\n      </g>\r\n     </g>\r\n    </g>\r\n    <g id=\"xtick_2\">\r\n     <g id=\"line2d_3\">\r\n      <g>\r\n       <use style=\"stroke:#000000;stroke-width:0.8;\" x=\"70.767857\" xlink:href=\"#mc0bb235c6c\" y=\"247.078125\"/>\r\n      </g>\r\n     </g>\r\n     <g id=\"line2d_4\">\r\n      <g>\r\n       <use style=\"stroke:#000000;stroke-width:0.8;\" x=\"70.767857\" xlink:href=\"#mbff90feac5\" y=\"23.878125\"/>\r\n      </g>\r\n     </g>\r\n     <g id=\"text_2\">\r\n      <!-- 5 -->\r\n      <g transform=\"translate(67.586607 14.798438)scale(0.1 -0.1)\">\r\n       <defs>\r\n        <path d=\"M 10.796875 72.90625 \r\nL 49.515625 72.90625 \r\nL 49.515625 64.59375 \r\nL 19.828125 64.59375 \r\nL 19.828125 46.734375 \r\nQ 21.96875 47.46875 24.109375 47.828125 \r\nQ 26.265625 48.1875 28.421875 48.1875 \r\nQ 40.625 48.1875 47.75 41.5 \r\nQ 54.890625 34.8125 54.890625 23.390625 \r\nQ 54.890625 11.625 47.5625 5.09375 \r\nQ 40.234375 -1.421875 26.90625 -1.421875 \r\nQ 22.3125 -1.421875 17.546875 -0.640625 \r\nQ 12.796875 0.140625 7.71875 1.703125 \r\nL 7.71875 11.625 \r\nQ 12.109375 9.234375 16.796875 8.0625 \r\nQ 21.484375 6.890625 26.703125 6.890625 \r\nQ 35.15625 6.890625 40.078125 11.328125 \r\nQ 45.015625 15.765625 45.015625 23.390625 \r\nQ 45.015625 31 40.078125 35.4375 \r\nQ 35.15625 39.890625 26.703125 39.890625 \r\nQ 22.75 39.890625 18.8125 39.015625 \r\nQ 14.890625 38.140625 10.796875 36.28125 \r\nz\r\n\" id=\"DejaVuSans-53\"/>\r\n       </defs>\r\n       <use xlink:href=\"#DejaVuSans-53\"/>\r\n      </g>\r\n     </g>\r\n    </g>\r\n    <g id=\"xtick_3\">\r\n     <g id=\"line2d_5\">\r\n      <g>\r\n       <use style=\"stroke:#000000;stroke-width:0.8;\" x=\"110.625\" xlink:href=\"#mc0bb235c6c\" y=\"247.078125\"/>\r\n      </g>\r\n     </g>\r\n     <g id=\"line2d_6\">\r\n      <g>\r\n       <use style=\"stroke:#000000;stroke-width:0.8;\" x=\"110.625\" xlink:href=\"#mbff90feac5\" y=\"23.878125\"/>\r\n      </g>\r\n     </g>\r\n     <g id=\"text_3\">\r\n      <!-- 10 -->\r\n      <g transform=\"translate(104.2625 14.798438)scale(0.1 -0.1)\">\r\n       <defs>\r\n        <path d=\"M 12.40625 8.296875 \r\nL 28.515625 8.296875 \r\nL 28.515625 63.921875 \r\nL 10.984375 60.40625 \r\nL 10.984375 69.390625 \r\nL 28.421875 72.90625 \r\nL 38.28125 72.90625 \r\nL 38.28125 8.296875 \r\nL 54.390625 8.296875 \r\nL 54.390625 0 \r\nL 12.40625 0 \r\nz\r\n\" id=\"DejaVuSans-49\"/>\r\n       </defs>\r\n       <use xlink:href=\"#DejaVuSans-49\"/>\r\n       <use x=\"63.623047\" xlink:href=\"#DejaVuSans-48\"/>\r\n      </g>\r\n     </g>\r\n    </g>\r\n    <g id=\"xtick_4\">\r\n     <g id=\"line2d_7\">\r\n      <g>\r\n       <use style=\"stroke:#000000;stroke-width:0.8;\" x=\"150.482143\" xlink:href=\"#mc0bb235c6c\" y=\"247.078125\"/>\r\n      </g>\r\n     </g>\r\n     <g id=\"line2d_8\">\r\n      <g>\r\n       <use style=\"stroke:#000000;stroke-width:0.8;\" x=\"150.482143\" xlink:href=\"#mbff90feac5\" y=\"23.878125\"/>\r\n      </g>\r\n     </g>\r\n     <g id=\"text_4\">\r\n      <!-- 15 -->\r\n      <g transform=\"translate(144.119643 14.798438)scale(0.1 -0.1)\">\r\n       <use xlink:href=\"#DejaVuSans-49\"/>\r\n       <use x=\"63.623047\" xlink:href=\"#DejaVuSans-53\"/>\r\n      </g>\r\n     </g>\r\n    </g>\r\n    <g id=\"xtick_5\">\r\n     <g id=\"line2d_9\">\r\n      <g>\r\n       <use style=\"stroke:#000000;stroke-width:0.8;\" x=\"190.339286\" xlink:href=\"#mc0bb235c6c\" y=\"247.078125\"/>\r\n      </g>\r\n     </g>\r\n     <g id=\"line2d_10\">\r\n      <g>\r\n       <use style=\"stroke:#000000;stroke-width:0.8;\" x=\"190.339286\" xlink:href=\"#mbff90feac5\" y=\"23.878125\"/>\r\n      </g>\r\n     </g>\r\n     <g id=\"text_5\">\r\n      <!-- 20 -->\r\n      <g transform=\"translate(183.976786 14.798438)scale(0.1 -0.1)\">\r\n       <defs>\r\n        <path d=\"M 19.1875 8.296875 \r\nL 53.609375 8.296875 \r\nL 53.609375 0 \r\nL 7.328125 0 \r\nL 7.328125 8.296875 \r\nQ 12.9375 14.109375 22.625 23.890625 \r\nQ 32.328125 33.6875 34.8125 36.53125 \r\nQ 39.546875 41.84375 41.421875 45.53125 \r\nQ 43.3125 49.21875 43.3125 52.78125 \r\nQ 43.3125 58.59375 39.234375 62.25 \r\nQ 35.15625 65.921875 28.609375 65.921875 \r\nQ 23.96875 65.921875 18.8125 64.3125 \r\nQ 13.671875 62.703125 7.8125 59.421875 \r\nL 7.8125 69.390625 \r\nQ 13.765625 71.78125 18.9375 73 \r\nQ 24.125 74.21875 28.421875 74.21875 \r\nQ 39.75 74.21875 46.484375 68.546875 \r\nQ 53.21875 62.890625 53.21875 53.421875 \r\nQ 53.21875 48.921875 51.53125 44.890625 \r\nQ 49.859375 40.875 45.40625 35.40625 \r\nQ 44.1875 33.984375 37.640625 27.21875 \r\nQ 31.109375 20.453125 19.1875 8.296875 \r\nz\r\n\" id=\"DejaVuSans-50\"/>\r\n       </defs>\r\n       <use xlink:href=\"#DejaVuSans-50\"/>\r\n       <use x=\"63.623047\" xlink:href=\"#DejaVuSans-48\"/>\r\n      </g>\r\n     </g>\r\n    </g>\r\n    <g id=\"xtick_6\">\r\n     <g id=\"line2d_11\">\r\n      <g>\r\n       <use style=\"stroke:#000000;stroke-width:0.8;\" x=\"230.196429\" xlink:href=\"#mc0bb235c6c\" y=\"247.078125\"/>\r\n      </g>\r\n     </g>\r\n     <g id=\"line2d_12\">\r\n      <g>\r\n       <use style=\"stroke:#000000;stroke-width:0.8;\" x=\"230.196429\" xlink:href=\"#mbff90feac5\" y=\"23.878125\"/>\r\n      </g>\r\n     </g>\r\n     <g id=\"text_6\">\r\n      <!-- 25 -->\r\n      <g transform=\"translate(223.833929 14.798438)scale(0.1 -0.1)\">\r\n       <use xlink:href=\"#DejaVuSans-50\"/>\r\n       <use x=\"63.623047\" xlink:href=\"#DejaVuSans-53\"/>\r\n      </g>\r\n     </g>\r\n    </g>\r\n   </g>\r\n   <g id=\"matplotlib.axis_2\">\r\n    <g id=\"ytick_1\">\r\n     <g id=\"line2d_13\">\r\n      <defs>\r\n       <path d=\"M 0 0 \r\nL -3.5 0 \r\n\" id=\"mfa655925c6\" style=\"stroke:#000000;stroke-width:0.8;\"/>\r\n      </defs>\r\n      <g>\r\n       <use style=\"stroke:#000000;stroke-width:0.8;\" x=\"26.925\" xlink:href=\"#mfa655925c6\" y=\"27.863839\"/>\r\n      </g>\r\n     </g>\r\n     <g id=\"text_7\">\r\n      <!-- 0 -->\r\n      <g transform=\"translate(13.5625 31.663058)scale(0.1 -0.1)\">\r\n       <use xlink:href=\"#DejaVuSans-48\"/>\r\n      </g>\r\n     </g>\r\n    </g>\r\n    <g id=\"ytick_2\">\r\n     <g id=\"line2d_14\">\r\n      <g>\r\n       <use style=\"stroke:#000000;stroke-width:0.8;\" x=\"26.925\" xlink:href=\"#mfa655925c6\" y=\"67.720982\"/>\r\n      </g>\r\n     </g>\r\n     <g id=\"text_8\">\r\n      <!-- 5 -->\r\n      <g transform=\"translate(13.5625 71.520201)scale(0.1 -0.1)\">\r\n       <use xlink:href=\"#DejaVuSans-53\"/>\r\n      </g>\r\n     </g>\r\n    </g>\r\n    <g id=\"ytick_3\">\r\n     <g id=\"line2d_15\">\r\n      <g>\r\n       <use style=\"stroke:#000000;stroke-width:0.8;\" x=\"26.925\" xlink:href=\"#mfa655925c6\" y=\"107.578125\"/>\r\n      </g>\r\n     </g>\r\n     <g id=\"text_9\">\r\n      <!-- 10 -->\r\n      <g transform=\"translate(7.2 111.377344)scale(0.1 -0.1)\">\r\n       <use xlink:href=\"#DejaVuSans-49\"/>\r\n       <use x=\"63.623047\" xlink:href=\"#DejaVuSans-48\"/>\r\n      </g>\r\n     </g>\r\n    </g>\r\n    <g id=\"ytick_4\">\r\n     <g id=\"line2d_16\">\r\n      <g>\r\n       <use style=\"stroke:#000000;stroke-width:0.8;\" x=\"26.925\" xlink:href=\"#mfa655925c6\" y=\"147.435268\"/>\r\n      </g>\r\n     </g>\r\n     <g id=\"text_10\">\r\n      <!-- 15 -->\r\n      <g transform=\"translate(7.2 151.234487)scale(0.1 -0.1)\">\r\n       <use xlink:href=\"#DejaVuSans-49\"/>\r\n       <use x=\"63.623047\" xlink:href=\"#DejaVuSans-53\"/>\r\n      </g>\r\n     </g>\r\n    </g>\r\n    <g id=\"ytick_5\">\r\n     <g id=\"line2d_17\">\r\n      <g>\r\n       <use style=\"stroke:#000000;stroke-width:0.8;\" x=\"26.925\" xlink:href=\"#mfa655925c6\" y=\"187.292411\"/>\r\n      </g>\r\n     </g>\r\n     <g id=\"text_11\">\r\n      <!-- 20 -->\r\n      <g transform=\"translate(7.2 191.091629)scale(0.1 -0.1)\">\r\n       <use xlink:href=\"#DejaVuSans-50\"/>\r\n       <use x=\"63.623047\" xlink:href=\"#DejaVuSans-48\"/>\r\n      </g>\r\n     </g>\r\n    </g>\r\n    <g id=\"ytick_6\">\r\n     <g id=\"line2d_18\">\r\n      <g>\r\n       <use style=\"stroke:#000000;stroke-width:0.8;\" x=\"26.925\" xlink:href=\"#mfa655925c6\" y=\"227.149554\"/>\r\n      </g>\r\n     </g>\r\n     <g id=\"text_12\">\r\n      <!-- 25 -->\r\n      <g transform=\"translate(7.2 230.948772)scale(0.1 -0.1)\">\r\n       <use xlink:href=\"#DejaVuSans-50\"/>\r\n       <use x=\"63.623047\" xlink:href=\"#DejaVuSans-53\"/>\r\n      </g>\r\n     </g>\r\n    </g>\r\n   </g>\r\n   <g id=\"patch_3\">\r\n    <path d=\"M 26.925 247.078125 \r\nL 26.925 23.878125 \r\n\" style=\"fill:none;stroke:#000000;stroke-linecap:square;stroke-linejoin:miter;stroke-width:0.8;\"/>\r\n   </g>\r\n   <g id=\"patch_4\">\r\n    <path d=\"M 250.125 247.078125 \r\nL 250.125 23.878125 \r\n\" style=\"fill:none;stroke:#000000;stroke-linecap:square;stroke-linejoin:miter;stroke-width:0.8;\"/>\r\n   </g>\r\n   <g id=\"patch_5\">\r\n    <path d=\"M 26.925 247.078125 \r\nL 250.125 247.078125 \r\n\" style=\"fill:none;stroke:#000000;stroke-linecap:square;stroke-linejoin:miter;stroke-width:0.8;\"/>\r\n   </g>\r\n   <g id=\"patch_6\">\r\n    <path d=\"M 26.925 23.878125 \r\nL 250.125 23.878125 \r\n\" style=\"fill:none;stroke:#000000;stroke-linecap:square;stroke-linejoin:miter;stroke-width:0.8;\"/>\r\n   </g>\r\n  </g>\r\n </g>\r\n <defs>\r\n  <clipPath id=\"p9f424b005d\">\r\n   <rect height=\"223.2\" width=\"223.2\" x=\"26.925\" y=\"23.878125\"/>\r\n  </clipPath>\r\n </defs>\r\n</svg>\r\n",
      "image/png": "[encoded data removed]"
     },
     "metadata": {
      "needs_background": "light"
     }
    },
    {
     "output_type": "display_data",
     "data": {
      "text/plain": "<Figure size 288x288 with 1 Axes>",
      "image/svg+xml": "<?xml version=\"1.0\" encoding=\"utf-8\" standalone=\"no\"?>\r\n<!DOCTYPE svg PUBLIC \"-//W3C//DTD SVG 1.1//EN\"\r\n  \"http://www.w3.org/Graphics/SVG/1.1/DTD/svg11.dtd\">\r\n<!-- Created with matplotlib (https://matplotlib.org/) -->\r\n<svg height=\"257.778125pt\" version=\"1.1\" viewBox=\"0 0 257.325 257.778125\" width=\"257.325pt\" xmlns=\"http://www.w3.org/2000/svg\" xmlns:xlink=\"http://www.w3.org/1999/xlink\">\r\n <metadata>\r\n  <rdf:RDF xmlns:cc=\"http://creativecommons.org/ns#\" xmlns:dc=\"http://purl.org/dc/elements/1.1/\" xmlns:rdf=\"http://www.w3.org/1999/02/22-rdf-syntax-ns#\">\r\n   <cc:Work>\r\n    <dc:type rdf:resource=\"http://purl.org/dc/dcmitype/StillImage\"/>\r\n    <dc:date>2021-04-29T23:21:15.948221</dc:date>\r\n    <dc:format>image/svg+xml</dc:format>\r\n    <dc:creator>\r\n     <cc:Agent>\r\n      <dc:title>Matplotlib v3.3.4, https://matplotlib.org/</dc:title>\r\n     </cc:Agent>\r\n    </dc:creator>\r\n   </cc:Work>\r\n  </rdf:RDF>\r\n </metadata>\r\n <defs>\r\n  <style type=\"text/css\">*{stroke-linecap:butt;stroke-linejoin:round;}</style>\r\n </defs>\r\n <g id=\"figure_1\">\r\n  <g id=\"patch_1\">\r\n   <path d=\"M 0 257.778125 \r\nL 257.325 257.778125 \r\nL 257.325 0 \r\nL 0 0 \r\nz\r\n\" style=\"fill:none;\"/>\r\n  </g>\r\n  <g id=\"axes_1\">\r\n   <g id=\"patch_2\">\r\n    <path d=\"M 26.925 247.078125 \r\nL 250.125 247.078125 \r\nL 250.125 23.878125 \r\nL 26.925 23.878125 \r\nz\r\n\" style=\"fill:#ffffff;\"/>\r\n   </g>\r\n   <g clip-path=\"url(#p2ea2beeea5)\">\r\n    <image height=\"224\" id=\"image95b3496766\" transform=\"scale(1 -1)translate(0 -224)\" width=\"224\" x=\"26.925\" xlink:href=\"data:image/png;base64,\r\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\" y=\"-23.078125\"/>\r\n   </g>\r\n   <g id=\"matplotlib.axis_1\">\r\n    <g id=\"xtick_1\">\r\n     <g id=\"line2d_1\">\r\n      <defs>\r\n       <path d=\"M 0 0 \r\nL 0 3.5 \r\n\" id=\"mf1db83a870\" style=\"stroke:#000000;stroke-width:0.8;\"/>\r\n      </defs>\r\n      <g>\r\n       <use style=\"stroke:#000000;stroke-width:0.8;\" x=\"30.910714\" xlink:href=\"#mf1db83a870\" y=\"247.078125\"/>\r\n      </g>\r\n     </g>\r\n     <g id=\"line2d_2\">\r\n      <defs>\r\n       <path d=\"M 0 0 \r\nL 0 -3.5 \r\n\" id=\"m35f6d9b235\" style=\"stroke:#000000;stroke-width:0.8;\"/>\r\n      </defs>\r\n      <g>\r\n       <use style=\"stroke:#000000;stroke-width:0.8;\" x=\"30.910714\" xlink:href=\"#m35f6d9b235\" y=\"23.878125\"/>\r\n      </g>\r\n     </g>\r\n     <g id=\"text_1\">\r\n      <!-- 0 -->\r\n      <g transform=\"translate(27.729464 14.798438)scale(0.1 -0.1)\">\r\n       <defs>\r\n        <path d=\"M 31.78125 66.40625 \r\nQ 24.171875 66.40625 20.328125 58.90625 \r\nQ 16.5 51.421875 16.5 36.375 \r\nQ 16.5 21.390625 20.328125 13.890625 \r\nQ 24.171875 6.390625 31.78125 6.390625 \r\nQ 39.453125 6.390625 43.28125 13.890625 \r\nQ 47.125 21.390625 47.125 36.375 \r\nQ 47.125 51.421875 43.28125 58.90625 \r\nQ 39.453125 66.40625 31.78125 66.40625 \r\nz\r\nM 31.78125 74.21875 \r\nQ 44.046875 74.21875 50.515625 64.515625 \r\nQ 56.984375 54.828125 56.984375 36.375 \r\nQ 56.984375 17.96875 50.515625 8.265625 \r\nQ 44.046875 -1.421875 31.78125 -1.421875 \r\nQ 19.53125 -1.421875 13.0625 8.265625 \r\nQ 6.59375 17.96875 6.59375 36.375 \r\nQ 6.59375 54.828125 13.0625 64.515625 \r\nQ 19.53125 74.21875 31.78125 74.21875 \r\nz\r\n\" id=\"DejaVuSans-48\"/>\r\n       </defs>\r\n       <use xlink:href=\"#DejaVuSans-48\"/>\r\n      </g>\r\n     </g>\r\n    </g>\r\n    <g id=\"xtick_2\">\r\n     <g id=\"line2d_3\">\r\n      <g>\r\n       <use style=\"stroke:#000000;stroke-width:0.8;\" x=\"70.767857\" xlink:href=\"#mf1db83a870\" y=\"247.078125\"/>\r\n      </g>\r\n     </g>\r\n     <g id=\"line2d_4\">\r\n      <g>\r\n       <use style=\"stroke:#000000;stroke-width:0.8;\" x=\"70.767857\" xlink:href=\"#m35f6d9b235\" y=\"23.878125\"/>\r\n      </g>\r\n     </g>\r\n     <g id=\"text_2\">\r\n      <!-- 5 -->\r\n      <g transform=\"translate(67.586607 14.798438)scale(0.1 -0.1)\">\r\n       <defs>\r\n        <path d=\"M 10.796875 72.90625 \r\nL 49.515625 72.90625 \r\nL 49.515625 64.59375 \r\nL 19.828125 64.59375 \r\nL 19.828125 46.734375 \r\nQ 21.96875 47.46875 24.109375 47.828125 \r\nQ 26.265625 48.1875 28.421875 48.1875 \r\nQ 40.625 48.1875 47.75 41.5 \r\nQ 54.890625 34.8125 54.890625 23.390625 \r\nQ 54.890625 11.625 47.5625 5.09375 \r\nQ 40.234375 -1.421875 26.90625 -1.421875 \r\nQ 22.3125 -1.421875 17.546875 -0.640625 \r\nQ 12.796875 0.140625 7.71875 1.703125 \r\nL 7.71875 11.625 \r\nQ 12.109375 9.234375 16.796875 8.0625 \r\nQ 21.484375 6.890625 26.703125 6.890625 \r\nQ 35.15625 6.890625 40.078125 11.328125 \r\nQ 45.015625 15.765625 45.015625 23.390625 \r\nQ 45.015625 31 40.078125 35.4375 \r\nQ 35.15625 39.890625 26.703125 39.890625 \r\nQ 22.75 39.890625 18.8125 39.015625 \r\nQ 14.890625 38.140625 10.796875 36.28125 \r\nz\r\n\" id=\"DejaVuSans-53\"/>\r\n       </defs>\r\n       <use xlink:href=\"#DejaVuSans-53\"/>\r\n      </g>\r\n     </g>\r\n    </g>\r\n    <g id=\"xtick_3\">\r\n     <g id=\"line2d_5\">\r\n      <g>\r\n       <use style=\"stroke:#000000;stroke-width:0.8;\" x=\"110.625\" xlink:href=\"#mf1db83a870\" y=\"247.078125\"/>\r\n      </g>\r\n     </g>\r\n     <g id=\"line2d_6\">\r\n      <g>\r\n       <use style=\"stroke:#000000;stroke-width:0.8;\" x=\"110.625\" xlink:href=\"#m35f6d9b235\" y=\"23.878125\"/>\r\n      </g>\r\n     </g>\r\n     <g id=\"text_3\">\r\n      <!-- 10 -->\r\n      <g transform=\"translate(104.2625 14.798438)scale(0.1 -0.1)\">\r\n       <defs>\r\n        <path d=\"M 12.40625 8.296875 \r\nL 28.515625 8.296875 \r\nL 28.515625 63.921875 \r\nL 10.984375 60.40625 \r\nL 10.984375 69.390625 \r\nL 28.421875 72.90625 \r\nL 38.28125 72.90625 \r\nL 38.28125 8.296875 \r\nL 54.390625 8.296875 \r\nL 54.390625 0 \r\nL 12.40625 0 \r\nz\r\n\" id=\"DejaVuSans-49\"/>\r\n       </defs>\r\n       <use xlink:href=\"#DejaVuSans-49\"/>\r\n       <use x=\"63.623047\" xlink:href=\"#DejaVuSans-48\"/>\r\n      </g>\r\n     </g>\r\n    </g>\r\n    <g id=\"xtick_4\">\r\n     <g id=\"line2d_7\">\r\n      <g>\r\n       <use style=\"stroke:#000000;stroke-width:0.8;\" x=\"150.482143\" xlink:href=\"#mf1db83a870\" y=\"247.078125\"/>\r\n      </g>\r\n     </g>\r\n     <g id=\"line2d_8\">\r\n      <g>\r\n       <use style=\"stroke:#000000;stroke-width:0.8;\" x=\"150.482143\" xlink:href=\"#m35f6d9b235\" y=\"23.878125\"/>\r\n      </g>\r\n     </g>\r\n     <g id=\"text_4\">\r\n      <!-- 15 -->\r\n      <g transform=\"translate(144.119643 14.798438)scale(0.1 -0.1)\">\r\n       <use xlink:href=\"#DejaVuSans-49\"/>\r\n       <use x=\"63.623047\" xlink:href=\"#DejaVuSans-53\"/>\r\n      </g>\r\n     </g>\r\n    </g>\r\n    <g id=\"xtick_5\">\r\n     <g id=\"line2d_9\">\r\n      <g>\r\n       <use style=\"stroke:#000000;stroke-width:0.8;\" x=\"190.339286\" xlink:href=\"#mf1db83a870\" y=\"247.078125\"/>\r\n      </g>\r\n     </g>\r\n     <g id=\"line2d_10\">\r\n      <g>\r\n       <use style=\"stroke:#000000;stroke-width:0.8;\" x=\"190.339286\" xlink:href=\"#m35f6d9b235\" y=\"23.878125\"/>\r\n      </g>\r\n     </g>\r\n     <g id=\"text_5\">\r\n      <!-- 20 -->\r\n      <g transform=\"translate(183.976786 14.798438)scale(0.1 -0.1)\">\r\n       <defs>\r\n        <path d=\"M 19.1875 8.296875 \r\nL 53.609375 8.296875 \r\nL 53.609375 0 \r\nL 7.328125 0 \r\nL 7.328125 8.296875 \r\nQ 12.9375 14.109375 22.625 23.890625 \r\nQ 32.328125 33.6875 34.8125 36.53125 \r\nQ 39.546875 41.84375 41.421875 45.53125 \r\nQ 43.3125 49.21875 43.3125 52.78125 \r\nQ 43.3125 58.59375 39.234375 62.25 \r\nQ 35.15625 65.921875 28.609375 65.921875 \r\nQ 23.96875 65.921875 18.8125 64.3125 \r\nQ 13.671875 62.703125 7.8125 59.421875 \r\nL 7.8125 69.390625 \r\nQ 13.765625 71.78125 18.9375 73 \r\nQ 24.125 74.21875 28.421875 74.21875 \r\nQ 39.75 74.21875 46.484375 68.546875 \r\nQ 53.21875 62.890625 53.21875 53.421875 \r\nQ 53.21875 48.921875 51.53125 44.890625 \r\nQ 49.859375 40.875 45.40625 35.40625 \r\nQ 44.1875 33.984375 37.640625 27.21875 \r\nQ 31.109375 20.453125 19.1875 8.296875 \r\nz\r\n\" id=\"DejaVuSans-50\"/>\r\n       </defs>\r\n       <use xlink:href=\"#DejaVuSans-50\"/>\r\n       <use x=\"63.623047\" xlink:href=\"#DejaVuSans-48\"/>\r\n      </g>\r\n     </g>\r\n    </g>\r\n    <g id=\"xtick_6\">\r\n     <g id=\"line2d_11\">\r\n      <g>\r\n       <use style=\"stroke:#000000;stroke-width:0.8;\" x=\"230.196429\" xlink:href=\"#mf1db83a870\" y=\"247.078125\"/>\r\n      </g>\r\n     </g>\r\n     <g id=\"line2d_12\">\r\n      <g>\r\n       <use style=\"stroke:#000000;stroke-width:0.8;\" x=\"230.196429\" xlink:href=\"#m35f6d9b235\" y=\"23.878125\"/>\r\n      </g>\r\n     </g>\r\n     <g id=\"text_6\">\r\n      <!-- 25 -->\r\n      <g transform=\"translate(223.833929 14.798438)scale(0.1 -0.1)\">\r\n       <use xlink:href=\"#DejaVuSans-50\"/>\r\n       <use x=\"63.623047\" xlink:href=\"#DejaVuSans-53\"/>\r\n      </g>\r\n     </g>\r\n    </g>\r\n   </g>\r\n   <g id=\"matplotlib.axis_2\">\r\n    <g id=\"ytick_1\">\r\n     <g id=\"line2d_13\">\r\n      <defs>\r\n       <path d=\"M 0 0 \r\nL -3.5 0 \r\n\" id=\"me50e93a16e\" style=\"stroke:#000000;stroke-width:0.8;\"/>\r\n      </defs>\r\n      <g>\r\n       <use style=\"stroke:#000000;stroke-width:0.8;\" x=\"26.925\" xlink:href=\"#me50e93a16e\" y=\"27.863839\"/>\r\n      </g>\r\n     </g>\r\n     <g id=\"text_7\">\r\n      <!-- 0 -->\r\n      <g transform=\"translate(13.5625 31.663058)scale(0.1 -0.1)\">\r\n       <use xlink:href=\"#DejaVuSans-48\"/>\r\n      </g>\r\n     </g>\r\n    </g>\r\n    <g id=\"ytick_2\">\r\n     <g id=\"line2d_14\">\r\n      <g>\r\n       <use style=\"stroke:#000000;stroke-width:0.8;\" x=\"26.925\" xlink:href=\"#me50e93a16e\" y=\"67.720982\"/>\r\n      </g>\r\n     </g>\r\n     <g id=\"text_8\">\r\n      <!-- 5 -->\r\n      <g transform=\"translate(13.5625 71.520201)scale(0.1 -0.1)\">\r\n       <use xlink:href=\"#DejaVuSans-53\"/>\r\n      </g>\r\n     </g>\r\n    </g>\r\n    <g id=\"ytick_3\">\r\n     <g id=\"line2d_15\">\r\n      <g>\r\n       <use style=\"stroke:#000000;stroke-width:0.8;\" x=\"26.925\" xlink:href=\"#me50e93a16e\" y=\"107.578125\"/>\r\n      </g>\r\n     </g>\r\n     <g id=\"text_9\">\r\n      <!-- 10 -->\r\n      <g transform=\"translate(7.2 111.377344)scale(0.1 -0.1)\">\r\n       <use xlink:href=\"#DejaVuSans-49\"/>\r\n       <use x=\"63.623047\" xlink:href=\"#DejaVuSans-48\"/>\r\n      </g>\r\n     </g>\r\n    </g>\r\n    <g id=\"ytick_4\">\r\n     <g id=\"line2d_16\">\r\n      <g>\r\n       <use style=\"stroke:#000000;stroke-width:0.8;\" x=\"26.925\" xlink:href=\"#me50e93a16e\" y=\"147.435268\"/>\r\n      </g>\r\n     </g>\r\n     <g id=\"text_10\">\r\n      <!-- 15 -->\r\n      <g transform=\"translate(7.2 151.234487)scale(0.1 -0.1)\">\r\n       <use xlink:href=\"#DejaVuSans-49\"/>\r\n       <use x=\"63.623047\" xlink:href=\"#DejaVuSans-53\"/>\r\n      </g>\r\n     </g>\r\n    </g>\r\n    <g id=\"ytick_5\">\r\n     <g id=\"line2d_17\">\r\n      <g>\r\n       <use style=\"stroke:#000000;stroke-width:0.8;\" x=\"26.925\" xlink:href=\"#me50e93a16e\" y=\"187.292411\"/>\r\n      </g>\r\n     </g>\r\n     <g id=\"text_11\">\r\n      <!-- 20 -->\r\n      <g transform=\"translate(7.2 191.091629)scale(0.1 -0.1)\">\r\n       <use xlink:href=\"#DejaVuSans-50\"/>\r\n       <use x=\"63.623047\" xlink:href=\"#DejaVuSans-48\"/>\r\n      </g>\r\n     </g>\r\n    </g>\r\n    <g id=\"ytick_6\">\r\n     <g id=\"line2d_18\">\r\n      <g>\r\n       <use style=\"stroke:#000000;stroke-width:0.8;\" x=\"26.925\" xlink:href=\"#me50e93a16e\" y=\"227.149554\"/>\r\n      </g>\r\n     </g>\r\n     <g id=\"text_12\">\r\n      <!-- 25 -->\r\n      <g transform=\"translate(7.2 230.948772)scale(0.1 -0.1)\">\r\n       <use xlink:href=\"#DejaVuSans-50\"/>\r\n       <use x=\"63.623047\" xlink:href=\"#DejaVuSans-53\"/>\r\n      </g>\r\n     </g>\r\n    </g>\r\n   </g>\r\n   <g id=\"patch_3\">\r\n    <path d=\"M 26.925 247.078125 \r\nL 26.925 23.878125 \r\n\" style=\"fill:none;stroke:#000000;stroke-linecap:square;stroke-linejoin:miter;stroke-width:0.8;\"/>\r\n   </g>\r\n   <g id=\"patch_4\">\r\n    <path d=\"M 250.125 247.078125 \r\nL 250.125 23.878125 \r\n\" style=\"fill:none;stroke:#000000;stroke-linecap:square;stroke-linejoin:miter;stroke-width:0.8;\"/>\r\n   </g>\r\n   <g id=\"patch_5\">\r\n    <path d=\"M 26.925 247.078125 \r\nL 250.125 247.078125 \r\n\" style=\"fill:none;stroke:#000000;stroke-linecap:square;stroke-linejoin:miter;stroke-width:0.8;\"/>\r\n   </g>\r\n   <g id=\"patch_6\">\r\n    <path d=\"M 26.925 23.878125 \r\nL 250.125 23.878125 \r\n\" style=\"fill:none;stroke:#000000;stroke-linecap:square;stroke-linejoin:miter;stroke-width:0.8;\"/>\r\n   </g>\r\n  </g>\r\n </g>\r\n <defs>\r\n  <clipPath id=\"p2ea2beeea5\">\r\n   <rect height=\"223.2\" width=\"223.2\" x=\"26.925\" y=\"23.878125\"/>\r\n  </clipPath>\r\n </defs>\r\n</svg>\r\n",
      "image/png": "[encoded data removed]"
     },
     "metadata": {
      "needs_background": "light"
     }
    }
   ],
   "source": [
    "#Check if it works\n",
    "matshow(x_test[300])\n",
    "matshow((ae.predict(x_test[300][None]))[0])"
   ]
  },
  {
   "cell_type": "code",
   "execution_count": 118,
   "metadata": {},
   "outputs": [
    {
     "output_type": "stream",
     "name": "stdout",
     "text": [
      "The codebook vector is: [[0. 0. 1. 0. 0. 0. 0. 0. 0. 0.]]\n"
     ]
    },
    {
     "output_type": "execute_result",
     "data": {
      "text/plain": [
       "<tf.Tensor: shape=(1, 32), dtype=float32, numpy=\n",
       "array([[ 0.02999753,  0.04207791, -0.00094951, -0.03881069, -0.03528434,\n",
       "        -0.04200214,  0.03264326,  0.04025086,  0.04227425, -0.03485636,\n",
       "        -0.01010508, -0.00424366, -0.00406509,  0.02293909,  0.02692971,\n",
       "        -0.01458545, -0.03743865,  0.00634218,  0.04370398, -0.0484    ,\n",
       "        -0.01419572, -0.04255999,  0.02697334,  0.02508697, -0.01274937,\n",
       "        -0.03194635,  0.00066652,  0.03106382, -0.03279785, -0.01625267,\n",
       "        -0.03076564, -0.0342647 ]], dtype=float32)>"
      ]
     },
     "metadata": {},
     "execution_count": 118
    }
   ],
   "source": [
    "# Code taken and modified from https://github.com/HenningBuhl/VQ-VAE_Keras_Implementation/blob/master/VQ_VAE_Keras_MNIST_Example.ipynb by Github user HenningBuhl and Adam's Colab notebook\n",
    "class vectorQuantizerLayer(tf.keras.layers.Layer):\n",
    "    def __init__(self, codebook_dim, codebook_number, initializer='uniform'):\n",
    "        super(vectorQuantizerLayer, self).__init__()\n",
    "        self.codebook_dim = codebook_dim\n",
    "        self.codebook_number = codebook_number\n",
    "        self.codebook = self.add_weight(\n",
    "            shape=(codebook_dim, codebook_number), \n",
    "            initializer=initializer,\n",
    "            trainable=True)\n",
    "\n",
    "    def call(self, x):\n",
    "        # Reshape the input according to the codebook vector dimensions\n",
    "        reshaped_x = tf.keras.backend.reshape(x, (-1,self.codebook_dim))\n",
    "\n",
    "        # Calculate eucledian distances of the input to the codebook vectors. This is basically (a-b)^2 = a^2 + 2*a*b + b^2 in matrix form. \n",
    "        distances = (\n",
    "            tf.keras.backend.sum(reshaped_x**2, axis=1, keepdims=True) \n",
    "                - 2*tf.keras.backend.dot(reshaped_x, self.codebook) \n",
    "                + tf.keras.backend.sum(self.codebook**2, axis=0, keepdims=True))\n",
    "\n",
    "        # Identify the codebook indices with minimum distances\n",
    "        self.codebook_indices = tf.keras.backend.argmin(distances, axis=1)\n",
    "        codebook = tf.keras.backend.one_hot(\n",
    "            self.codebook_indices, self.codebook_number)\n",
    "        print(f\"The codebook vector is: {codebook}\")\n",
    "\n",
    "        #Do a lookup of the chosen index in the codebook\n",
    "        quantized_output = tf.nn.embedding_lookup(\n",
    "            tf.keras.backend.transpose(self.codebook), self.codebook_indices)\n",
    "        return quantized_output\n",
    "\n",
    "\n",
    "vq = vectorQuantizerLayer(32, 10)\n",
    "vq.call(encoderVanilla.network.predict(x_train[300][None]))"
   ]
  },
  {
   "cell_type": "code",
   "execution_count": 119,
   "metadata": {},
   "outputs": [
    {
     "output_type": "stream",
     "name": "stdout",
     "text": [
      "WARNING:tensorflow:Please add `keras.layers.InputLayer` instead of `keras.Input` to Sequential model. `keras.Input` is intended to be used by Functional model.\n",
      "The codebook vector is: Tensor(\"vector_quantizer_layer_27/one_hot:0\", shape=(None, 10), dtype=float32)\n"
     ]
    }
   ],
   "source": [
    "# The vector quantized autoencoder network\n",
    "class AutoencoderVectorQuantized:\n",
    "    def __init__(self, encoder, vq, decoder):\n",
    "        self.network = tf.keras.models.Sequential(\n",
    "            [\n",
    "                tf.keras.Input(shape=(28, 28)),\n",
    "                encoder,\n",
    "                vq,\n",
    "                decoder,\n",
    "            ], name='autoencoderVectorQuantized'\n",
    "        )\n",
    "autoencoderVectorQuantized = AutoencoderVectorQuantized(\n",
    "    encoderVanilla.network, vq, decoderVanilla.network)\n",
    "ae = autoencoderVectorQuantized.network"
   ]
  },
  {
   "cell_type": "code",
   "execution_count": 121,
   "metadata": {},
   "outputs": [
    {
     "output_type": "stream",
     "name": "stdout",
     "text": [
      "Epoch 1/50\n",
      "The codebook vector is: Tensor(\"autoencoderVectorQuantized/vector_quantizer_layer_27/one_hot:0\", shape=(32, 10), dtype=float32)\n",
      "WARNING:tensorflow:Gradients do not exist for variables ['conv2d_34/kernel:0', 'conv2d_34/bias:0', 'conv2d_35/kernel:0', 'conv2d_35/bias:0', 'conv2d_36/kernel:0', 'conv2d_36/bias:0', 'dense_55/kernel:0', 'dense_55/bias:0'] when minimizing the loss.\n",
      "The codebook vector is: Tensor(\"autoencoderVectorQuantized/vector_quantizer_layer_27/one_hot:0\", shape=(32, 10), dtype=float32)\n",
      "WARNING:tensorflow:Gradients do not exist for variables ['conv2d_34/kernel:0', 'conv2d_34/bias:0', 'conv2d_35/kernel:0', 'conv2d_35/bias:0', 'conv2d_36/kernel:0', 'conv2d_36/bias:0', 'dense_55/kernel:0', 'dense_55/bias:0'] when minimizing the loss.\n",
      "1875/1875 [==============================] - 16s 8ms/step - loss: 7282.9678\n",
      "Epoch 2/50\n",
      "1875/1875 [==============================] - 15s 8ms/step - loss: 7282.9663\n",
      "Epoch 3/50\n",
      "1875/1875 [==============================] - 15s 8ms/step - loss: 7282.9727\n",
      "Epoch 4/50\n",
      "1875/1875 [==============================] - 15s 8ms/step - loss: 7282.9658\n",
      "Epoch 5/50\n",
      "1875/1875 [==============================] - 15s 8ms/step - loss: 7282.9746\n",
      "Epoch 6/50\n",
      "1875/1875 [==============================] - 15s 8ms/step - loss: 7282.9712\n",
      "Epoch 7/50\n",
      "1875/1875 [==============================] - 15s 8ms/step - loss: 7282.9629\n",
      "Epoch 8/50\n",
      "1875/1875 [==============================] - 15s 8ms/step - loss: 7282.9717\n",
      "Epoch 9/50\n",
      "1875/1875 [==============================] - 15s 8ms/step - loss: 7282.9702\n",
      "Epoch 10/50\n",
      "1875/1875 [==============================] - 15s 8ms/step - loss: 7282.9717\n",
      "Epoch 11/50\n",
      "1162/1875 [=================>............] - ETA: 5s - loss: 7285.3647"
     ]
    },
    {
     "output_type": "error",
     "ename": "KeyboardInterrupt",
     "evalue": "",
     "traceback": [
      "\u001b[1;31m---------------------------------------------------------------------------\u001b[0m",
      "\u001b[1;31mKeyboardInterrupt\u001b[0m                         Traceback (most recent call last)",
      "\u001b[1;32m<ipython-input-121-c149b1b11088>\u001b[0m in \u001b[0;36m<module>\u001b[1;34m\u001b[0m\n\u001b[0;32m      1\u001b[0m \u001b[1;31m#Configure the model for training and then train\u001b[0m\u001b[1;33m\u001b[0m\u001b[1;33m\u001b[0m\u001b[1;33m\u001b[0m\u001b[0m\n\u001b[0;32m      2\u001b[0m \u001b[0mae\u001b[0m\u001b[1;33m.\u001b[0m\u001b[0mcompile\u001b[0m\u001b[1;33m(\u001b[0m\u001b[0mloss\u001b[0m\u001b[1;33m=\u001b[0m\u001b[1;34m'MSE'\u001b[0m\u001b[1;33m)\u001b[0m\u001b[1;33m\u001b[0m\u001b[1;33m\u001b[0m\u001b[0m\n\u001b[1;32m----> 3\u001b[1;33m \u001b[0mae\u001b[0m\u001b[1;33m.\u001b[0m\u001b[0mfit\u001b[0m\u001b[1;33m(\u001b[0m\u001b[0mx_train\u001b[0m\u001b[1;33m,\u001b[0m \u001b[0mx_train\u001b[0m\u001b[1;33m,\u001b[0m \u001b[0mepochs\u001b[0m\u001b[1;33m=\u001b[0m\u001b[1;36m50\u001b[0m\u001b[1;33m)\u001b[0m\u001b[1;33m\u001b[0m\u001b[1;33m\u001b[0m\u001b[0m\n\u001b[0m",
      "\u001b[1;32m~\\anaconda3\\envs\\vqvae-2\\lib\\site-packages\\tensorflow\\python\\keras\\engine\\training.py\u001b[0m in \u001b[0;36mfit\u001b[1;34m(self, x, y, batch_size, epochs, verbose, callbacks, validation_split, validation_data, shuffle, class_weight, sample_weight, initial_epoch, steps_per_epoch, validation_steps, validation_batch_size, validation_freq, max_queue_size, workers, use_multiprocessing)\u001b[0m\n\u001b[0;32m   1181\u001b[0m                 _r=1):\n\u001b[0;32m   1182\u001b[0m               \u001b[0mcallbacks\u001b[0m\u001b[1;33m.\u001b[0m\u001b[0mon_train_batch_begin\u001b[0m\u001b[1;33m(\u001b[0m\u001b[0mstep\u001b[0m\u001b[1;33m)\u001b[0m\u001b[1;33m\u001b[0m\u001b[1;33m\u001b[0m\u001b[0m\n\u001b[1;32m-> 1183\u001b[1;33m               \u001b[0mtmp_logs\u001b[0m \u001b[1;33m=\u001b[0m \u001b[0mself\u001b[0m\u001b[1;33m.\u001b[0m\u001b[0mtrain_function\u001b[0m\u001b[1;33m(\u001b[0m\u001b[0miterator\u001b[0m\u001b[1;33m)\u001b[0m\u001b[1;33m\u001b[0m\u001b[1;33m\u001b[0m\u001b[0m\n\u001b[0m\u001b[0;32m   1184\u001b[0m               \u001b[1;32mif\u001b[0m \u001b[0mdata_handler\u001b[0m\u001b[1;33m.\u001b[0m\u001b[0mshould_sync\u001b[0m\u001b[1;33m:\u001b[0m\u001b[1;33m\u001b[0m\u001b[1;33m\u001b[0m\u001b[0m\n\u001b[0;32m   1185\u001b[0m                 \u001b[0mcontext\u001b[0m\u001b[1;33m.\u001b[0m\u001b[0masync_wait\u001b[0m\u001b[1;33m(\u001b[0m\u001b[1;33m)\u001b[0m\u001b[1;33m\u001b[0m\u001b[1;33m\u001b[0m\u001b[0m\n",
      "\u001b[1;32m~\\anaconda3\\envs\\vqvae-2\\lib\\site-packages\\tensorflow\\python\\eager\\def_function.py\u001b[0m in \u001b[0;36m__call__\u001b[1;34m(self, *args, **kwds)\u001b[0m\n\u001b[0;32m    887\u001b[0m \u001b[1;33m\u001b[0m\u001b[0m\n\u001b[0;32m    888\u001b[0m       \u001b[1;32mwith\u001b[0m \u001b[0mOptionalXlaContext\u001b[0m\u001b[1;33m(\u001b[0m\u001b[0mself\u001b[0m\u001b[1;33m.\u001b[0m\u001b[0m_jit_compile\u001b[0m\u001b[1;33m)\u001b[0m\u001b[1;33m:\u001b[0m\u001b[1;33m\u001b[0m\u001b[1;33m\u001b[0m\u001b[0m\n\u001b[1;32m--> 889\u001b[1;33m         \u001b[0mresult\u001b[0m \u001b[1;33m=\u001b[0m \u001b[0mself\u001b[0m\u001b[1;33m.\u001b[0m\u001b[0m_call\u001b[0m\u001b[1;33m(\u001b[0m\u001b[1;33m*\u001b[0m\u001b[0margs\u001b[0m\u001b[1;33m,\u001b[0m \u001b[1;33m**\u001b[0m\u001b[0mkwds\u001b[0m\u001b[1;33m)\u001b[0m\u001b[1;33m\u001b[0m\u001b[1;33m\u001b[0m\u001b[0m\n\u001b[0m\u001b[0;32m    890\u001b[0m \u001b[1;33m\u001b[0m\u001b[0m\n\u001b[0;32m    891\u001b[0m       \u001b[0mnew_tracing_count\u001b[0m \u001b[1;33m=\u001b[0m \u001b[0mself\u001b[0m\u001b[1;33m.\u001b[0m\u001b[0mexperimental_get_tracing_count\u001b[0m\u001b[1;33m(\u001b[0m\u001b[1;33m)\u001b[0m\u001b[1;33m\u001b[0m\u001b[1;33m\u001b[0m\u001b[0m\n",
      "\u001b[1;32m~\\anaconda3\\envs\\vqvae-2\\lib\\site-packages\\tensorflow\\python\\eager\\def_function.py\u001b[0m in \u001b[0;36m_call\u001b[1;34m(self, *args, **kwds)\u001b[0m\n\u001b[0;32m    915\u001b[0m       \u001b[1;31m# In this case we have created variables on the first call, so we run the\u001b[0m\u001b[1;33m\u001b[0m\u001b[1;33m\u001b[0m\u001b[1;33m\u001b[0m\u001b[0m\n\u001b[0;32m    916\u001b[0m       \u001b[1;31m# defunned version which is guaranteed to never create variables.\u001b[0m\u001b[1;33m\u001b[0m\u001b[1;33m\u001b[0m\u001b[1;33m\u001b[0m\u001b[0m\n\u001b[1;32m--> 917\u001b[1;33m       \u001b[1;32mreturn\u001b[0m \u001b[0mself\u001b[0m\u001b[1;33m.\u001b[0m\u001b[0m_stateless_fn\u001b[0m\u001b[1;33m(\u001b[0m\u001b[1;33m*\u001b[0m\u001b[0margs\u001b[0m\u001b[1;33m,\u001b[0m \u001b[1;33m**\u001b[0m\u001b[0mkwds\u001b[0m\u001b[1;33m)\u001b[0m  \u001b[1;31m# pylint: disable=not-callable\u001b[0m\u001b[1;33m\u001b[0m\u001b[1;33m\u001b[0m\u001b[0m\n\u001b[0m\u001b[0;32m    918\u001b[0m     \u001b[1;32melif\u001b[0m \u001b[0mself\u001b[0m\u001b[1;33m.\u001b[0m\u001b[0m_stateful_fn\u001b[0m \u001b[1;32mis\u001b[0m \u001b[1;32mnot\u001b[0m \u001b[1;32mNone\u001b[0m\u001b[1;33m:\u001b[0m\u001b[1;33m\u001b[0m\u001b[1;33m\u001b[0m\u001b[0m\n\u001b[0;32m    919\u001b[0m       \u001b[1;31m# Release the lock early so that multiple threads can perform the call\u001b[0m\u001b[1;33m\u001b[0m\u001b[1;33m\u001b[0m\u001b[1;33m\u001b[0m\u001b[0m\n",
      "\u001b[1;32m~\\anaconda3\\envs\\vqvae-2\\lib\\site-packages\\tensorflow\\python\\eager\\function.py\u001b[0m in \u001b[0;36m__call__\u001b[1;34m(self, *args, **kwargs)\u001b[0m\n\u001b[0;32m   3021\u001b[0m       (graph_function,\n\u001b[0;32m   3022\u001b[0m        filtered_flat_args) = self._maybe_define_function(args, kwargs)\n\u001b[1;32m-> 3023\u001b[1;33m     return graph_function._call_flat(\n\u001b[0m\u001b[0;32m   3024\u001b[0m         filtered_flat_args, captured_inputs=graph_function.captured_inputs)  # pylint: disable=protected-access\n\u001b[0;32m   3025\u001b[0m \u001b[1;33m\u001b[0m\u001b[0m\n",
      "\u001b[1;32m~\\anaconda3\\envs\\vqvae-2\\lib\\site-packages\\tensorflow\\python\\eager\\function.py\u001b[0m in \u001b[0;36m_call_flat\u001b[1;34m(self, args, captured_inputs, cancellation_manager)\u001b[0m\n\u001b[0;32m   1958\u001b[0m         and executing_eagerly):\n\u001b[0;32m   1959\u001b[0m       \u001b[1;31m# No tape is watching; skip to running the function.\u001b[0m\u001b[1;33m\u001b[0m\u001b[1;33m\u001b[0m\u001b[1;33m\u001b[0m\u001b[0m\n\u001b[1;32m-> 1960\u001b[1;33m       return self._build_call_outputs(self._inference_function.call(\n\u001b[0m\u001b[0;32m   1961\u001b[0m           ctx, args, cancellation_manager=cancellation_manager))\n\u001b[0;32m   1962\u001b[0m     forward_backward = self._select_forward_and_backward_functions(\n",
      "\u001b[1;32m~\\anaconda3\\envs\\vqvae-2\\lib\\site-packages\\tensorflow\\python\\eager\\function.py\u001b[0m in \u001b[0;36mcall\u001b[1;34m(self, ctx, args, cancellation_manager)\u001b[0m\n\u001b[0;32m    589\u001b[0m       \u001b[1;32mwith\u001b[0m \u001b[0m_InterpolateFunctionError\u001b[0m\u001b[1;33m(\u001b[0m\u001b[0mself\u001b[0m\u001b[1;33m)\u001b[0m\u001b[1;33m:\u001b[0m\u001b[1;33m\u001b[0m\u001b[1;33m\u001b[0m\u001b[0m\n\u001b[0;32m    590\u001b[0m         \u001b[1;32mif\u001b[0m \u001b[0mcancellation_manager\u001b[0m \u001b[1;32mis\u001b[0m \u001b[1;32mNone\u001b[0m\u001b[1;33m:\u001b[0m\u001b[1;33m\u001b[0m\u001b[1;33m\u001b[0m\u001b[0m\n\u001b[1;32m--> 591\u001b[1;33m           outputs = execute.execute(\n\u001b[0m\u001b[0;32m    592\u001b[0m               \u001b[0mstr\u001b[0m\u001b[1;33m(\u001b[0m\u001b[0mself\u001b[0m\u001b[1;33m.\u001b[0m\u001b[0msignature\u001b[0m\u001b[1;33m.\u001b[0m\u001b[0mname\u001b[0m\u001b[1;33m)\u001b[0m\u001b[1;33m,\u001b[0m\u001b[1;33m\u001b[0m\u001b[1;33m\u001b[0m\u001b[0m\n\u001b[0;32m    593\u001b[0m               \u001b[0mnum_outputs\u001b[0m\u001b[1;33m=\u001b[0m\u001b[0mself\u001b[0m\u001b[1;33m.\u001b[0m\u001b[0m_num_outputs\u001b[0m\u001b[1;33m,\u001b[0m\u001b[1;33m\u001b[0m\u001b[1;33m\u001b[0m\u001b[0m\n",
      "\u001b[1;32m~\\anaconda3\\envs\\vqvae-2\\lib\\site-packages\\tensorflow\\python\\eager\\execute.py\u001b[0m in \u001b[0;36mquick_execute\u001b[1;34m(op_name, num_outputs, inputs, attrs, ctx, name)\u001b[0m\n\u001b[0;32m     57\u001b[0m   \u001b[1;32mtry\u001b[0m\u001b[1;33m:\u001b[0m\u001b[1;33m\u001b[0m\u001b[1;33m\u001b[0m\u001b[0m\n\u001b[0;32m     58\u001b[0m     \u001b[0mctx\u001b[0m\u001b[1;33m.\u001b[0m\u001b[0mensure_initialized\u001b[0m\u001b[1;33m(\u001b[0m\u001b[1;33m)\u001b[0m\u001b[1;33m\u001b[0m\u001b[1;33m\u001b[0m\u001b[0m\n\u001b[1;32m---> 59\u001b[1;33m     tensors = pywrap_tfe.TFE_Py_Execute(ctx._handle, device_name, op_name,\n\u001b[0m\u001b[0;32m     60\u001b[0m                                         inputs, attrs, num_outputs)\n\u001b[0;32m     61\u001b[0m   \u001b[1;32mexcept\u001b[0m \u001b[0mcore\u001b[0m\u001b[1;33m.\u001b[0m\u001b[0m_NotOkStatusException\u001b[0m \u001b[1;32mas\u001b[0m \u001b[0me\u001b[0m\u001b[1;33m:\u001b[0m\u001b[1;33m\u001b[0m\u001b[1;33m\u001b[0m\u001b[0m\n",
      "\u001b[1;31mKeyboardInterrupt\u001b[0m: "
     ]
    }
   ],
   "source": [
    "#Configure the model for training and then train\n",
    "ae.compile(loss='MSE')\n",
    "ae.fit(x_train, x_train, epochs=50)"
   ]
  },
  {
   "cell_type": "code",
   "execution_count": null,
   "metadata": {},
   "outputs": [],
   "source": [
    "matshow(x_test[300])\n",
    "matshow((ae.predict(x_test[300][None]))[0])"
   ]
  }
 ]
}